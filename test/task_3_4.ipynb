{
 "cells": [
  {
   "cell_type": "code",
   "execution_count": 13,
   "metadata": {
    "collapsed": false
   },
   "outputs": [],
   "source": [
    "from gensim.models import KeyedVectors\n",
    "vectors = KeyedVectors.load_word2vec_format('E:/ruscorpora_mean_hs.model.bin', binary=True)"
   ]
  },
  {
   "cell_type": "markdown",
   "metadata": {},
   "source": [
    "### Задание 3.1.\n",
    "Найти топ-10 похожих слов для \"начальник\""
   ]
  },
  {
   "cell_type": "code",
   "execution_count": 21,
   "metadata": {
    "collapsed": false
   },
   "outputs": [
    {
     "name": "stdout",
     "output_type": "stream",
     "text": [
      "[('замначальник_S', 0.6262379884719849), ('заведующий_S', 0.5692601203918457), ('комендант_S', 0.562671422958374), ('дежурный_S', 0.540611982345581), ('инспектор_S', 0.5218731164932251), ('шеф_S', 0.5208275318145752), ('оперуполномоченный_S', 0.49783241748809814), ('начальство_S', 0.4953279495239258), ('руководитель_S', 0.4885033667087555), ('командир_S', 0.4845767915248871)]\n"
     ]
    }
   ],
   "source": [
    "print(vectors.most_similar(positive=['начальник_S']))"
   ]
  },
  {
   "cell_type": "markdown",
   "metadata": {},
   "source": [
    "### Задание 3.2.\n",
    "Определите топ 5 близких к слову \"начальник\" по русскому ворд-нету или по РуТез\n",
    "\n",
    "По ворднету - возьмем сначала слова из того же синсета:  ШЕФ, БОСС, НАЧАЛЬНИЦА. Нужно еще два. Возьмем ближайшие гиперонимы: РУКОВОДИТЕЛЬ, ДОЛЖНОСТНОЕ ЛИЦО и ближайшие гипонимы: КОМАНДУЮЩИЙ, КУРАТОР. В итоге семь слов (не знаю как выбрать два из гипонимов и гиперонимов).\n",
    "\n",
    "### Задание 3.3.\n",
    "Процент пересечений: <br>\n",
    "в списке w2v 2 слова (шеф, руководитель) из 10 есть в ручном списке, то есть 0.2 <br>\n",
    "в ручном списке 2 слова из 7 есть в списке w2v, то есть примерно 0.3 <br>\n",
    "Ну можно еще командующего к командиру приравнять, но все равно процент совпадений невысокий. \n",
    "Видно, что w2v немного перекошен в сторону новостей (очень новостная лексика про начальников, полиция например), а ворднет очень обобщает.\n",
    "\n",
    "### Задание 3.4.\n",
    "Ошибочно в похожие попали слова инспектор, оперуполномоченный, дежурный, комендант - опять же, из-за вероятного новостного перекоса.\n",
    "\n",
    "### Задание 4.\n",
    "Найдите лишнее слово: \"говорить, сказать, писать, удивляться\""
   ]
  },
  {
   "cell_type": "code",
   "execution_count": 22,
   "metadata": {
    "collapsed": false,
    "scrolled": true
   },
   "outputs": [
    {
     "data": {
      "text/plain": [
       "'удивляться_V'"
      ]
     },
     "execution_count": 22,
     "metadata": {},
     "output_type": "execute_result"
    }
   ],
   "source": [
    "vectors.doesnt_match(['говорить_V','сказать_V','писать_V','удивляться_V'])"
   ]
  }
 ],
 "metadata": {
  "kernelspec": {
   "display_name": "Python 3",
   "language": "python",
   "name": "python3"
  },
  "language_info": {
   "codemirror_mode": {
    "name": "ipython",
    "version": 3
   },
   "file_extension": ".py",
   "mimetype": "text/x-python",
   "name": "python",
   "nbconvert_exporter": "python",
   "pygments_lexer": "ipython3",
   "version": "3.5.3"
  }
 },
 "nbformat": 4,
 "nbformat_minor": 0
}
