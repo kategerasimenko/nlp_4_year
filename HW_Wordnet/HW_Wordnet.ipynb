{
 "cells": [
  {
   "cell_type": "code",
   "execution_count": 31,
   "metadata": {
    "collapsed": true
   },
   "outputs": [],
   "source": [
    "from nltk.corpus import wordnet\n",
    "from nltk.wsd import lesk\n",
    "from itertools import product\n",
    "from nltk.corpus import wordnet_ic\n",
    "ic = wordnet_ic.ic('ic-brown.dat')"
   ]
  },
  {
   "cell_type": "markdown",
   "metadata": {},
   "source": [
    "**1. Найти все значения (синсеты) для лексемы square**"
   ]
  },
  {
   "cell_type": "code",
   "execution_count": 4,
   "metadata": {
    "collapsed": false,
    "scrolled": false
   },
   "outputs": [
    {
     "name": "stdout",
     "output_type": "stream",
     "text": [
      "Synset('square.n.01') (geometry) a plane rectangle with four equal sides and four right angles; a four-sided regular polygon\n",
      "Synset('square.n.02') the product of two equal terms\n",
      "Synset('public_square.n.01') an open area at the meeting of two or more streets\n",
      "Synset('square.n.04') something approximating the shape of a square\n",
      "Synset('square.n.05') someone who doesn't understand what is going on\n",
      "Synset('square.n.06') a formal and conservative person with old-fashioned views\n",
      "Synset('square.n.07') any artifact having a shape similar to a plane geometric figure with four equal sides and four right angles\n",
      "Synset('square.n.08') a hand tool consisting of two straight arms at right angles; used to construct or test right angles\n",
      "Synset('square.v.01') make square\n",
      "Synset('square.v.02') raise to the second power\n",
      "Synset('square.v.03') cause to match, as of ideas or acts\n",
      "Synset('square.v.04') position so as to be square\n",
      "Synset('square.v.05') be compatible with\n",
      "Synset('square.v.06') pay someone and settle a debt\n",
      "Synset('feather.v.03') turn the paddle; in canoeing\n",
      "Synset('feather.v.04') turn the oar, while rowing\n",
      "Synset('square.a.01') having four equal sides and four right angles or forming a right angle\n",
      "Synset('straight.a.06') characterized by honesty and fairness\n",
      "Synset('hearty.s.02') providing abundant nourishment\n",
      "Synset('square.s.04') leaving no balance\n",
      "Synset('square.s.05') without evasion or compromise\n",
      "Synset('square.s.06') rigidly conventional or old-fashioned\n",
      "Synset('squarely.r.02') in a straight direct way\n",
      "Synset('squarely.r.04') in a square shape\n",
      "Synset('squarely.r.03') firmly and solidly\n"
     ]
    }
   ],
   "source": [
    "square = wordnet.synsets('square')\n",
    "for synset in square:\n",
    "    print(synset, synset.definition())"
   ]
  },
  {
   "cell_type": "markdown",
   "metadata": {},
   "source": [
    "**2. Найти определение для лексемы square в значении (а) \"квадрат\" и в значении (b) \"площадь\"**"
   ]
  },
  {
   "cell_type": "code",
   "execution_count": 6,
   "metadata": {
    "collapsed": false
   },
   "outputs": [
    {
     "name": "stdout",
     "output_type": "stream",
     "text": [
      "(geometry) a plane rectangle with four equal sides and four right angles; a four-sided regular polygon\n",
      "an open area at the meeting of two or more streets\n"
     ]
    }
   ],
   "source": [
    "fig, area = square[0], square[2]\n",
    "print(fig.definition(),area.definition(),sep='\\n')"
   ]
  },
  {
   "cell_type": "markdown",
   "metadata": {},
   "source": [
    "**3. Найдите два произвольных контекста для слова square в значениях (a) \"квадрат\" и (b) \"площадь\"; продемонстрируйте на них действие алгоритма Леска для разрешения неоднозначности**"
   ]
  },
  {
   "cell_type": "code",
   "execution_count": 22,
   "metadata": {
    "collapsed": false
   },
   "outputs": [
    {
     "name": "stdout",
     "output_type": "stream",
     "text": [
      "The blue part from the picture is composed by two triangles and a rectangle; from the rectangle a small square has been subtracted.\n",
      "something approximating the shape of a square \n",
      "\n",
      "Merchants set up small tables in the middle of the square.\n",
      "something approximating the shape of a square \n",
      "\n"
     ]
    }
   ],
   "source": [
    "fig_sent = \"The blue part from the picture is composed by two triangles and a rectangle; from the rectangle a small square has been subtracted.\"\n",
    "area_sent = \"Merchants set up small tables in the middle of the square.\"\n",
    "for sent in [fig_sent,area_sent]:\n",
    "    print(sent)\n",
    "    sent_tok = [x.strip('.,;') for x in sent.lower().split(' ')]\n",
    "    print(lesk(sent_tok,'square').definition(),'\\n')"
   ]
  },
  {
   "cell_type": "markdown",
   "metadata": {},
   "source": [
    "Алгоритм Леска не сработал -- выдал неверное значение в обоих случаях.\n",
    "\n",
    "**4. Найдите гиперонимы для значения (a) и гиперонимы для значения (b)**"
   ]
  },
  {
   "cell_type": "code",
   "execution_count": 10,
   "metadata": {
    "collapsed": false,
    "scrolled": true
   },
   "outputs": [
    {
     "name": "stdout",
     "output_type": "stream",
     "text": [
      "Synset('rectangle.n.01') a parallelogram with four right angles\n",
      "Synset('regular_polygon.n.01') a polygon with all sides and all angles equal\n",
      "\n",
      "Synset('tract.n.01') an extended area of land\n"
     ]
    }
   ],
   "source": [
    "for h in fig.hypernyms():\n",
    "    print(h,h.definition())\n",
    "print()\n",
    "for h in area.hypernyms():\n",
    "    print(h,h.definition())"
   ]
  },
  {
   "cell_type": "markdown",
   "metadata": {},
   "source": [
    "**5. Вычислите наименьшее расстояние между значением square \"площадь\" и значениями лексемы city, а также square \"квадрат\" и значениями лексемы perimeter**\n",
    "\n",
    "Найти min (d(square: \"площадь\", city), d(square: \"площадь\", perimeter)), а также min (d(square: \"квадрат\", city), d(square: \"квадрат\", perimeter))"
   ]
  },
  {
   "cell_type": "code",
   "execution_count": 20,
   "metadata": {
    "collapsed": false
   },
   "outputs": [
    {
     "name": "stdout",
     "output_type": "stream",
     "text": [
      "min d(square: \"площадь\", city): 5\n",
      "a large and densely populated urban area; may include several independent administrative districts\n",
      "\n",
      "min d(square: \"площадь\", perimeter): 12\n",
      "a line enclosing a plane areas\n",
      "\n",
      "min d(square: \"квадрат\", city): 13\n",
      "people living in a large densely populated municipality\n",
      "\n",
      "min d(square: \"квадрат\", perimeter): 8\n",
      "a line enclosing a plane areas\n",
      "\n",
      "min (d(square: \"площадь\", city), d(square: \"площадь\", perimeter)): 5\n",
      "min (d(square: \"квадрат\", city), d(square: \"квадрат\", perimeter)): 8\n"
     ]
    }
   ],
   "source": [
    "def min_dist(ss,word):\n",
    "    return min([(x.definition(),ss.shortest_path_distance(x)) for x in wordnet.synsets(word)],\n",
    "               key=lambda x: x[1])\n",
    "\n",
    "area_city = min_dist(area, 'city')\n",
    "print('min d(square: \"площадь\", city):',area_city[1])\n",
    "print(area_city[0])\n",
    "\n",
    "print()\n",
    "\n",
    "area_perim = min_dist(area, 'perimeter')\n",
    "print('min d(square: \"площадь\", perimeter):',area_perim[1])\n",
    "print(area_perim[0])\n",
    "\n",
    "print()\n",
    "\n",
    "fig_city = min_dist(fig, 'city')\n",
    "print('min d(square: \"квадрат\", city):',fig_city[1])\n",
    "print(fig_city[0])\n",
    "\n",
    "print()\n",
    "\n",
    "fig_perim = min_dist(fig, 'perimeter')\n",
    "print('min d(square: \"квадрат\", perimeter):',fig_perim[1])\n",
    "print(fig_perim[0])\n",
    "\n",
    "print()\n",
    "\n",
    "print('min (d(square: \"площадь\", city), d(square: \"площадь\", perimeter)):', \n",
    "      min(area_city, area_perim, key=lambda x: x[1])[1])\n",
    "print('min (d(square: \"квадрат\", city), d(square: \"квадрат\", perimeter)):', \n",
    "      min(fig_city, fig_perim, key=lambda x: x[1])[1])"
   ]
  },
  {
   "cell_type": "markdown",
   "metadata": {},
   "source": [
    "Результаты вполне логичные - city ближе к площади чем к квадрату, только у квадрата вышло странное определение ближайшего city. Периметр довольно далеко, но ближе к квадрату, чем к площади.\n",
    "\n",
    "**6. Вычислить двумя разными способами расстояние: <br />\n",
    "d(square: \"квадрат\", parallelogram) и d(organism, whole) <br />\n",
    "Есть ли разница в расстояниях? Какое из расстояний, по Вашему мнению, в лучшей степени отражает интуитивное представление о семантчиеской близости слов?**\n",
    "\n",
    "Leacock-Chodorow Similarity & Jiang-Conrath Similarity"
   ]
  },
  {
   "cell_type": "code",
   "execution_count": 43,
   "metadata": {
    "collapsed": true
   },
   "outputs": [],
   "source": [
    "def count_sim(w1,w2):\n",
    "    print(w1.definition())\n",
    "    print(w2.definition())\n",
    "    print('Leacock-Chodorow','Jiang-Conrath',sep='\\t')\n",
    "    print(w1.lch_similarity(w2),w1.jcn_similarity(w2,ic=ic),sep='\\t')\n",
    "    print()"
   ]
  },
  {
   "cell_type": "code",
   "execution_count": 44,
   "metadata": {
    "collapsed": false
   },
   "outputs": [
    {
     "name": "stdout",
     "output_type": "stream",
     "text": [
      "(geometry) a plane rectangle with four equal sides and four right angles; a four-sided regular polygon\n",
      "a quadrilateral whose opposite sides are both parallel and equal in length\n",
      "Leacock-Chodorow\tJiang-Conrath\n",
      "2.538973871058276\t1.8171146751015412\n",
      "\n",
      "a living thing that has (or can develop) the ability to act or function independently\n",
      "all of something including all its component elements or parts\n",
      "Leacock-Chodorow\tJiang-Conrath\n",
      "1.072636802264849\t0.11927453545173074\n",
      "\n",
      "a living thing that has (or can develop) the ability to act or function independently\n",
      "an assemblage of parts that is regarded as a single entity\n",
      "Leacock-Chodorow\tJiang-Conrath\n",
      "2.538973871058276\t1.4444255924181877\n",
      "\n",
      "a system considered analogous in structure or function to a living body\n",
      "all of something including all its component elements or parts\n",
      "Leacock-Chodorow\tJiang-Conrath\n",
      "1.3350010667323402\t0.05928363701403374\n",
      "\n",
      "a system considered analogous in structure or function to a living body\n",
      "an assemblage of parts that is regarded as a single entity\n",
      "Leacock-Chodorow\tJiang-Conrath\n",
      "1.55814461804655\t0.07444639262208605\n",
      "\n"
     ]
    }
   ],
   "source": [
    "count_sim(fig,wordnet.synsets('parallelogram')[0])\n",
    "\n",
    "org_whole = product(wordnet.synsets('organism','n'),wordnet.synsets('whole','n'))\n",
    "for w1,w2 in org_whole:\n",
    "    count_sim(w1,w2)"
   ]
  },
  {
   "cell_type": "markdown",
   "metadata": {},
   "source": [
    "По Jiang-Conrath квадрат более похож на параллелограмм, чем организм на целое, а по Leacock-Chodorow значение такое что что и у лидера организма-целого, что соответствует ожиданиям. Из организма и целого побеждает пара a living thing + an assemblage of parts, что также соотносится с интуицией. В целом, Leacock-Chodorow более хорошо отражает интуитивное представление о близости понятий, хоть немного сложно судить об интуиции с абстрактными определениями организма и целого."
   ]
  }
 ],
 "metadata": {
  "kernelspec": {
   "display_name": "Python [default]",
   "language": "python",
   "name": "python3"
  },
  "language_info": {
   "codemirror_mode": {
    "name": "ipython",
    "version": 3
   },
   "file_extension": ".py",
   "mimetype": "text/x-python",
   "name": "python",
   "nbconvert_exporter": "python",
   "pygments_lexer": "ipython3",
   "version": "3.5.2"
  }
 },
 "nbformat": 4,
 "nbformat_minor": 1
}
