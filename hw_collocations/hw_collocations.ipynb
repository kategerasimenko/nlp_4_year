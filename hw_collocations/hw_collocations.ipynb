{
 "cells": [
  {
   "cell_type": "code",
   "execution_count": 1,
   "metadata": {
    "collapsed": true
   },
   "outputs": [],
   "source": [
    "from nltk.collocations import BigramAssocMeasures, BigramCollocationFinder\n",
    "from scipy.stats import spearmanr"
   ]
  },
  {
   "cell_type": "markdown",
   "metadata": {},
   "source": [
    "# Корпус\n",
    "1020 отрывков из пяти слов, начинающихся на слово \"суд\", лемматизированных и без стоп-слов."
   ]
  },
  {
   "cell_type": "code",
   "execution_count": 2,
   "metadata": {
    "collapsed": false
   },
   "outputs": [
    {
     "name": "stdout",
     "output_type": "stream",
     "text": [
      "N tokens: 5100\n"
     ]
    }
   ],
   "source": [
    "with open('court-V-N.csv','r',encoding='utf-8') as f:\n",
    "    corp = [x.strip().split(' ,') for x in f.readlines()]\n",
    "print('N tokens:',sum([len(x) for x in corp]))"
   ]
  },
  {
   "cell_type": "markdown",
   "metadata": {},
   "source": [
    "# Золотой стандарт\n",
    "Интуиция + прикидки частотности биграммы и составляющих по корпусу на глаз."
   ]
  },
  {
   "cell_type": "code",
   "execution_count": 3,
   "metadata": {
    "collapsed": true
   },
   "outputs": [],
   "source": [
    "golden_colloc = [\n",
    "    ('ПРИНЯТЬ', 'РЕШЕНИЕ'),\n",
    "    ('МЕРА', 'ПРЕСЕЧЕНИЕ'),\n",
    "    ('САНКЦИЯ', 'АРЕСТ'),\n",
    "    ('УДОВЛЕТВОРИТЬ', 'ИСК'),\n",
    "    ('УДОВЛЕТВОРИТЬ', 'ХОДАТАЙСТВО'),\n",
    "    ('ПРИЗНАТЬ', 'ВИНОВНАЯ'),\n",
    "    ('ВЫНЕСТИ', 'РЕШЕНИЕ'),\n",
    "    ('ОТКАЗАТЬ', 'УДОВЛЕТВОРЕНИЕ'),\n",
    "    ('НАЛОЖИТЬ', 'АРЕСТ'),\n",
    "    ('ОСТАВИТЬ', 'СИЛА')\n",
    "]"
   ]
  },
  {
   "cell_type": "markdown",
   "metadata": {},
   "source": [
    "# Автоматическое извлечение коллокаций\n",
    "### Метрики\n",
    "* Likelihood ratio\n",
    "* PMI"
   ]
  },
  {
   "cell_type": "code",
   "execution_count": 4,
   "metadata": {
    "collapsed": false
   },
   "outputs": [],
   "source": [
    "bigram_measures = BigramAssocMeasures()\n",
    "finder = BigramCollocationFinder.from_documents(corp)"
   ]
  },
  {
   "cell_type": "markdown",
   "metadata": {},
   "source": [
    "## Likelihood ratio"
   ]
  },
  {
   "cell_type": "code",
   "execution_count": 5,
   "metadata": {
    "collapsed": false
   },
   "outputs": [
    {
     "data": {
      "text/plain": [
       "[(('СУД', 'ПРИЗНАТЬ'), 219.22906047906903),\n",
       " (('ВЫДАТЬ', 'САНКЦИЯ'), 134.79222855631895),\n",
       " (('СУД', 'УДОВЛЕТВОРИТЬ'), 132.5976240279905),\n",
       " (('УДОВЛЕТВОРИТЬ', 'ИСК'), 127.52283038813364),\n",
       " (('УДОВЛЕТВОРИТЬ', 'ХОДАТАЙСТВО'), 126.30257129727798),\n",
       " (('ПРИНЯТЬ', 'РЕШЕНИЕ'), 124.73943459343414),\n",
       " (('САНКЦИЯ', 'АРЕСТ'), 116.1065067993143),\n",
       " (('МЕРА', 'ПРЕСЕЧЕНИЕ'), 101.98507334340232),\n",
       " (('НАЛОЖИТЬ', 'АРЕСТ'), 96.03598326740575),\n",
       " (('СУД', 'ВЫНЕСТИ'), 88.1625667221642)]"
      ]
     },
     "execution_count": 5,
     "metadata": {},
     "output_type": "execute_result"
    }
   ],
   "source": [
    "lr_colloc = finder.score_ngrams(bigram_measures.likelihood_ratio)\n",
    "lr_all_ranks = {x[0]:i for i,x in enumerate(lr_colloc)}\n",
    "lr_colloc[:10]"
   ]
  },
  {
   "cell_type": "markdown",
   "metadata": {},
   "source": [
    "Из 10 выделенных по LR коллокаций 6 есть в ЗС, а три -- начинающиеся со слова \"суд\", то есть являющиеся сочетанием субъект+глагол -- не знаю насколько можно считать коллокацией вообще. Для исключения таких \"коллокаций\" можно либо из итогового списка выкинуть все коллокации вида \"суд\"+глагол, либо из исходного корпуса удалить первое слово каждого предложения (собственно, \"суд\"). Одна коллокация -- 'ВЫДАТЬ', 'САНКЦИЯ' -- хорошая, ее можно было бы включить в ЗС. \n",
    "\n",
    "## PMI\n",
    "Без ограничений на минимальную частоту работает плохо, выставила частоту 5 (минимальная частота 6 дает такие же результаты, а начиная с частоты 7 не все коллокации из ЗС есть в выделенных по PMI)"
   ]
  },
  {
   "cell_type": "code",
   "execution_count": 6,
   "metadata": {
    "collapsed": false,
    "scrolled": false
   },
   "outputs": [
    {
     "data": {
      "text/plain": [
       "[(('ОСВОБОДИТЬ', 'ЗАЛОГ'), 9.28653418835217),\n",
       " (('ЛИШЕНИЕ', 'СВОБОДА'), 9.245892203854822),\n",
       " (('ПРОЙТИ', 'ПРЕНИЕ'), 9.053247125912428),\n",
       " (('МЕРА', 'ПРЕСЕЧЕНИЕ'), 8.61584181360513),\n",
       " (('ИЗБРАТЬ', 'МЕРА'), 8.352807407771335),\n",
       " (('ВЫДАТЬ', 'САНКЦИЯ'), 7.536940985858216),\n",
       " (('ОСТАВИТЬ', 'СИЛА'), 7.4093909361377035),\n",
       " (('АРЕСТОВАТЬ', 'АКЦИЯ'), 7.271887412387769),\n",
       " (('СОГЛАСИТЬСЯ', 'ДОВОД'), 7.146356530303909),\n",
       " (('НАЧАТЬСЯ', 'РАССМОТРЕНИЕ'), 6.83085470457598)]"
      ]
     },
     "execution_count": 6,
     "metadata": {},
     "output_type": "execute_result"
    }
   ],
   "source": [
    "finder.apply_freq_filter(5)\n",
    "pmi_colloc = finder.score_ngrams(bigram_measures.pmi)\n",
    "pmi_all_ranks = {x[0]:i for i,x in enumerate(pmi_colloc)}\n",
    "pmi_colloc[:10]"
   ]
  },
  {
   "cell_type": "markdown",
   "metadata": {},
   "source": [
    "В этом топ-10 есть всего 2 коллокации из ЗС ('МЕРА', 'ПРЕСЕЧЕНИЕ' и 'ОСТАВИТЬ', 'СИЛА'). Это менее частотные коллокации, тогда как я выделяла более частотные, поэтому такой маленький процент пересечения понятен. Ошибкой можно назвать только одну коллокацию, опять же, глагол+субъект - 'НАЧАТЬСЯ', 'РАССМОТРЕНИЕ', остальные вполне похожи на коллокации.\n",
    "\n",
    "# Корреляции"
   ]
  },
  {
   "cell_type": "code",
   "execution_count": 7,
   "metadata": {
    "collapsed": false
   },
   "outputs": [],
   "source": [
    "golden_ranks = list(range(1,11))\n",
    "lr_ranks = [lr_all_ranks[x] for x in golden_colloc]\n",
    "pmi_ranks = [pmi_all_ranks[x] for x in golden_colloc]"
   ]
  },
  {
   "cell_type": "code",
   "execution_count": 8,
   "metadata": {
    "collapsed": false,
    "scrolled": true
   },
   "outputs": [
    {
     "name": "stdout",
     "output_type": "stream",
     "text": [
      "LR & PMI\n",
      "SpearmanrResult(correlation=-0.39393939393939392, pvalue=0.25999776683488757)\n",
      "\n",
      "LR & GS\n",
      "SpearmanrResult(correlation=0.73333333333333317, pvalue=0.015800596250571581)\n",
      "\n",
      "PMI & GS\n",
      "SpearmanrResult(correlation=-0.23636363636363633, pvalue=0.51088531751520017)\n"
     ]
    }
   ],
   "source": [
    "print('LR & PMI')\n",
    "print(spearmanr(lr_ranks,pmi_ranks))\n",
    "print()\n",
    "print('LR & GS')\n",
    "print(spearmanr(lr_ranks,golden_ranks))\n",
    "print()\n",
    "print('PMI & GS')\n",
    "print(spearmanr(pmi_ranks,golden_ranks))"
   ]
  },
  {
   "cell_type": "markdown",
   "metadata": {},
   "source": [
    "Disclaimer: p-value, вероятно, в данном случае верить нельзя, потому что в документации написано: \"The p-values are not entirely reliable but are probably reasonable for datasets larger than 500 or so.\". А у нас всего 10 объектов.\n",
    "\n",
    "Между LR и PMI наблюдается небольшая негативная корреляция, то есть чем выше по рангу коллокация по LR, тем она ниже по PMI. Но корреляция все равно не очень большая. Между LR и ЗС зато есть довольно высокая положительная корреляция, соответственно между PMI и ЗС - небольшая отрицательная. Вообще по топ-10 PMI и по этим результатам видно, что PMI при минимальной частоте 5 выделяет коллокации другого порядка. Думаю, что при минимальной частоте >6 результат был бы лучше, но так выделяются не все коллокации из ЗС."
   ]
  }
 ],
 "metadata": {
  "anaconda-cloud": {},
  "kernelspec": {
   "display_name": "Python [default]",
   "language": "python",
   "name": "python3"
  },
  "language_info": {
   "codemirror_mode": {
    "name": "ipython",
    "version": 3
   },
   "file_extension": ".py",
   "mimetype": "text/x-python",
   "name": "python",
   "nbconvert_exporter": "python",
   "pygments_lexer": "ipython3",
   "version": "3.5.2"
  }
 },
 "nbformat": 4,
 "nbformat_minor": 1
}
